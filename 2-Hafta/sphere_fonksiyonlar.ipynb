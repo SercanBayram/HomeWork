{
 "cells": [
  {
   "cell_type": "code",
   "execution_count": 1,
   "id": "69cf0547-3bb7-4aea-90bd-e033954303d6",
   "metadata": {},
   "outputs": [],
   "source": [
    "################################################\n",
    "## Gradient Descent\n",
    "## Gradient Descent + Newton\n",
    "## Gradient Descent and Newton with Random starts\n",
    "##                           for Sphere Function \n",
    "##                    \n",
    "## Code: B. Sercan BAYRAM\n",
    "################################################\n",
    "\n",
    "import numpy as np\n",
    "\n",
    "# Sphere Functions\n",
    "# f(x1,x2,x3,...,xn) = x1**2 + x2**2 + ... + xn**2\n",
    "def sphere(args):\n",
    "    sum = 0\n",
    "    for i in args:\n",
    "        sum = sum + i**2\n",
    "    return sum\n",
    "    \n",
    "#arguman [x1, x2, x3 ...]\n",
    "def sphereGradyan(arr):\n",
    "    n = len(arr)\n",
    "    \n",
    "    # 2x1 + 2x2 + 2x3 + .... 2xn \n",
    "    gradyan = np.array([], dtype=\"int\")\n",
    "    for i in range(n):\n",
    "        gradyan = np.append(gradyan, [2*arr[i]], axis=0)\n",
    "    return gradyan\n",
    "\n",
    "# Gradient Descent algoritmasının fonksiyon olarak tanımlanması\n",
    "#                [array], step, repeat, gradyanFunc\n",
    "def gradientDescent(*args):\n",
    "    # derivativeFunc: ilgili fonksiyonun türevi\n",
    "    x0 = args[0]       # Başlangıç değeri\n",
    "    lr = args[1]           # Adım büyüklüğü / learning rate\n",
    "    n = args[2]          # Tekrar sayısı\n",
    "    x0list = np.array([args[0]], dtype=\"int\")      # Optimizasyon değerlerinin tutulacağı dizi\n",
    "    \n",
    "    for i in range(n):\n",
    "        x0 = x0 - lr*args[3](x0)\n",
    "        x0list = np.append(x0list,[x0], axis=0)\n",
    "    return x0list\n",
    "    \n",
    "# Gradient Descent + Newton\n",
    "#  [array], step, repeat, gradyanFunc\n",
    "def gradientDescentNewton(*args):\n",
    "    # derivativeFunc: ilgili fonksiyonun türevi\n",
    "    x0 = args[0]       # Başlangıç değeri\n",
    "    lr = args[1]           # Adım büyüklüğü / learning rate\n",
    "    n = args[2]          # Tekrar sayısı\n",
    "    x0list = np.array([args[0]], dtype=\"int\")      # Optimizasyon değerlerinin tutulacağı dizi\n",
    "\n",
    "    hessianInv = np.linalg.inv(np.dot(len(x0),np.eye(3, dtype=\"int\")))\n",
    "    \n",
    "    for i in range(n):\n",
    "        x0 = x0 - np.dot(lr,np.dot(hessianInv, args[3](x0)))\n",
    "        x0list = np.append(x0list,[x0], axis=0)\n",
    "    return x0list"
   ]
  },
  {
   "cell_type": "code",
   "execution_count": 3,
   "id": "cfd9d438-f986-45e2-89de-75e67ca3a2e5",
   "metadata": {},
   "outputs": [
    {
     "name": "stdout",
     "output_type": "stream",
     "text": [
      "Sphere fonksiyonu için optimizasyon sonucu: Koor: [0.01758795 0.01758795 0.01758795] Sphere: 0.0009280075974171373\n"
     ]
    }
   ],
   "source": [
    "## gradientDescent Algoritması\n",
    "# 1. Argüman başlangıç noktası\n",
    "# 2. Argüman adım boyutu\n",
    "# 3. Argüman çevrim\n",
    "# 4. Argüman sphere fonksiyon gradyani\n",
    "#\n",
    "# 3 Boyutlu başlangıçta çözüm\n",
    "sonuc = gradientDescent([1,1,1],0.01, 200, sphereGradyan)\n",
    "print(\"Sphere fonksiyonu için optimizasyon sonucu: Koor: {} Sphere: {}\".format(sonuc[-1], sphere(sonuc[-1])))"
   ]
  },
  {
   "cell_type": "code",
   "execution_count": 4,
   "id": "b7434510-500b-47c1-af09-1e4fe543b4d1",
   "metadata": {},
   "outputs": [
    {
     "name": "stdout",
     "output_type": "stream",
     "text": [
      "Sphere fonksiyonu için optimizasyon sonucu: Koor: [0.01758795 0.01758795 0.01758795 0.01758795] Sphere: 0.0012373434632228497\n"
     ]
    }
   ],
   "source": [
    "# 4 Boyutlu başlangıç için çözüm\n",
    "sonuc = gradientDescent([1,1,1,1],0.01, 200, sphereGradyan)\n",
    "print(\"Sphere fonksiyonu için optimizasyon sonucu: Koor: {} Sphere: {}\".format(sonuc[-1], sphere(sonuc[-1])))"
   ]
  },
  {
   "cell_type": "code",
   "execution_count": 5,
   "id": "9ef20278-993a-453b-92ba-3e76e71bdde9",
   "metadata": {},
   "outputs": [
    {
     "name": "stdout",
     "output_type": "stream",
     "text": [
      "Sphere fonksiyonu için optimizasyon sonucu: Koor: [-0.00233251  0.00466501  0.00116625] Sphere: 2.8563059127883993e-05\n"
     ]
    }
   ],
   "source": [
    "# 3 Boyutlu farklı başlangıç noktasından çözüm.\n",
    "sonuc = gradientDescent([-1,2,0.5],0.01, 300, sphereGradyan)\n",
    "print(\"Sphere fonksiyonu için optimizasyon sonucu: Koor: {} Sphere: {}\".format(sonuc[-1], sphere(sonuc[-1])))"
   ]
  },
  {
   "cell_type": "code",
   "execution_count": 65,
   "id": "c070fe98-82b5-4284-b5c6-43a0c93eab3e",
   "metadata": {},
   "outputs": [],
   "source": [
    "#############################################################\n",
    "### Gradient Descent and Newton with Random Restarts\n",
    "### Algoritması\n",
    "### randomScan(a1,a2, step, rp, funcOrigin, f_derivative, ff_derivative)\n",
    "### a1 = 1. aralık\n",
    "### a2 = 2. aralık\n",
    "### step = learnig rate\n",
    "### funcOrigin = original fonksiyon\n",
    "### f_derivative = fonksiyonun 1. türevi\n",
    "### ff_derivative = fonksiyonun 2. türevi\n",
    "############################################################\n",
    "import random\n",
    "\n",
    "#sonuc = gradientDescent([-1,2,0.5],0.01, 300, sphereHessianGradyan)\n",
    "def randomScan(aralik, step, rp, funcOrigin, funcGradyan, func_Optimizasyon):\n",
    "    rep = 100\n",
    "    \n",
    "    x0 = np.dot(random.random(), aralik)\n",
    "    x0temp = [funcOrigin(x0), x0]\n",
    "    for i in range(rep):\n",
    "        optimizasyon = func_Optimizasyon(x0, step, rp, funcGradyan)\n",
    "        \n",
    "        if funcOrigin(optimizasyon[-1]) < x0temp[0]:\n",
    "            x0temp = [funcOrigin(optimizasyon[-1]), optimizasyon[-1]]\n",
    "        x0 = np.dot(random.random(), aralik)\n",
    "    return x0temp"
   ]
  },
  {
   "cell_type": "code",
   "execution_count": 72,
   "id": "b8a9bc4b-58c2-4642-aeb1-a5ec3b81e5ee",
   "metadata": {},
   "outputs": [
    {
     "name": "stdout",
     "output_type": "stream",
     "text": [
      "Sphere Func. Gradient Restart:  2.5198407009316063e-05 -- [0.00204933 0.00409865 0.00204933]\n"
     ]
    }
   ],
   "source": [
    "sonuc = randomScan([1, 2, 1], 0.01, 100, sphere, sphereGradyan, gradientDescent)\n",
    "print(\"Sphere Func. Gradient Restart:  {} -- {}\".format(sonuc[0], sonuc[1]))"
   ]
  },
  {
   "cell_type": "code",
   "execution_count": 73,
   "id": "7e4fada5-8a43-4704-9be7-8eef57664ae1",
   "metadata": {},
   "outputs": [
    {
     "name": "stdout",
     "output_type": "stream",
     "text": [
      "Sphere Func. Gradient Newton with Restart:  7.671712457381546e-05 -- [0.00357578 0.00715156 0.00357578]\n"
     ]
    }
   ],
   "source": [
    "sonuc = randomScan([1, 2, 1], 0.01, 100, sphere, sphereGradyan, gradientDescentNewton)\n",
    "print(\"Sphere Func. Gradient Newton with Restart:  {} -- {}\".format(sonuc[0], sonuc[1]))"
   ]
  }
 ],
 "metadata": {
  "kernelspec": {
   "display_name": "Python 3 (ipykernel)",
   "language": "python",
   "name": "python3"
  },
  "language_info": {
   "codemirror_mode": {
    "name": "ipython",
    "version": 3
   },
   "file_extension": ".py",
   "mimetype": "text/x-python",
   "name": "python",
   "nbconvert_exporter": "python",
   "pygments_lexer": "ipython3",
   "version": "3.11.3"
  }
 },
 "nbformat": 4,
 "nbformat_minor": 5
}
